{
 "cells": [
  {
   "cell_type": "markdown",
   "metadata": {},
   "source": [
    "# Machine Learning Engineer Nanodegree\n",
    "## Capstone Project\n",
    "## Project: Movies Reviews Classification\n",
    "\n",
    "Welcome to my Capstone Project **Movies Reviews Classification** which is a **classification problem**. I will use sentiment analysis in analyzing movies reviews. A lot of people can’t decide which movie to watch. The trivial solution to decide, is to search manually for any website which provides reviews for every movie. Absolutely, with growing up the number of websites which provide these reviews, the mission to search and decide become more complex.\n",
    "\n",
    "Here machine learning play an important role to facilitate the difficult task to decide which movie you should watch. Sentiment analysis uses machine learning to analyze the reviews of people for many movies. So any one can find an overall positive or negative feedback of the movie. So, it reduces the time to decide which movie to watch.\n",
    "\n",
    "I will build a model using **Naive Bayes** that tries to classify the reviews into 1/positive or 0/negative. I will try to take the advantage of labeled data and use supervised learning algorithm to predict the sentiment of the reviews. I will compare the accuracy of Naive Bayes with diiferent Classifiers.\n"
   ]
  },
  {
   "cell_type": "markdown",
   "metadata": {},
   "source": [
    "-----\n",
    "## Reading Data\n",
    "\n",
    "The dataset for this project originates from the Kaggle competition **Bag of Words Meets Bags of Popcorn**. The competition was based on using machine learning in sentiment analysis.\n",
    "\n",
    "The training set exists in tab-delimited and has 25,000 rows containing an id, sentiment, and text for each review. There is another file that is tab-delimited file and has a header row followed by 25,000 rows containing an id and text only. We will predict the sentiment.\n",
    "- **ID:** integer represent the key of every row in the dataset.\n",
    "- **Sentiment:** it the label of film reviews. It has Binary value which be 0 for negative or 1 for positive.\n",
    "- **review:** it contains the reviews of every movie which we will use to train and build the model.\n",
    "\n",
    "I will separate the data into into features and the labels: The first is review which will be the feature of the movies. And the another one for the sentiment which will be the sentiment_labels."
   ]
  },
  {
   "cell_type": "code",
   "execution_count": 1,
   "metadata": {},
   "outputs": [
    {
     "name": "stdout",
     "output_type": "stream",
     "text": [
      "IMDB dataset has 25000 data points with 3 variables each.\n"
     ]
    },
    {
     "data": {
      "text/html": [
       "<div>\n",
       "<style scoped>\n",
       "    .dataframe tbody tr th:only-of-type {\n",
       "        vertical-align: middle;\n",
       "    }\n",
       "\n",
       "    .dataframe tbody tr th {\n",
       "        vertical-align: top;\n",
       "    }\n",
       "\n",
       "    .dataframe thead th {\n",
       "        text-align: right;\n",
       "    }\n",
       "</style>\n",
       "<table border=\"1\" class=\"dataframe\">\n",
       "  <thead>\n",
       "    <tr style=\"text-align: right;\">\n",
       "      <th></th>\n",
       "      <th>id</th>\n",
       "      <th>sentiment</th>\n",
       "      <th>review</th>\n",
       "    </tr>\n",
       "  </thead>\n",
       "  <tbody>\n",
       "    <tr>\n",
       "      <th>0</th>\n",
       "      <td>5814_8</td>\n",
       "      <td>1</td>\n",
       "      <td>With all this stuff going down at the moment w...</td>\n",
       "    </tr>\n",
       "    <tr>\n",
       "      <th>1</th>\n",
       "      <td>2381_9</td>\n",
       "      <td>1</td>\n",
       "      <td>\\The Classic War of the Worlds\\\" by Timothy Hi...</td>\n",
       "    </tr>\n",
       "    <tr>\n",
       "      <th>2</th>\n",
       "      <td>7759_3</td>\n",
       "      <td>0</td>\n",
       "      <td>The film starts with a manager (Nicholas Bell)...</td>\n",
       "    </tr>\n",
       "    <tr>\n",
       "      <th>3</th>\n",
       "      <td>3630_4</td>\n",
       "      <td>0</td>\n",
       "      <td>It must be assumed that those who praised this...</td>\n",
       "    </tr>\n",
       "    <tr>\n",
       "      <th>4</th>\n",
       "      <td>9495_8</td>\n",
       "      <td>1</td>\n",
       "      <td>Superbly trashy and wondrously unpretentious 8...</td>\n",
       "    </tr>\n",
       "    <tr>\n",
       "      <th>5</th>\n",
       "      <td>8196_8</td>\n",
       "      <td>1</td>\n",
       "      <td>I dont know why people think this is such a ba...</td>\n",
       "    </tr>\n",
       "    <tr>\n",
       "      <th>6</th>\n",
       "      <td>7166_2</td>\n",
       "      <td>0</td>\n",
       "      <td>This movie could have been very good, but come...</td>\n",
       "    </tr>\n",
       "    <tr>\n",
       "      <th>7</th>\n",
       "      <td>10633_1</td>\n",
       "      <td>0</td>\n",
       "      <td>I watched this video at a friend's house. I'm ...</td>\n",
       "    </tr>\n",
       "    <tr>\n",
       "      <th>8</th>\n",
       "      <td>319_1</td>\n",
       "      <td>0</td>\n",
       "      <td>A friend of mine bought this film for £1, and ...</td>\n",
       "    </tr>\n",
       "    <tr>\n",
       "      <th>9</th>\n",
       "      <td>8713_10</td>\n",
       "      <td>1</td>\n",
       "      <td>&lt;br /&gt;&lt;br /&gt;This movie is full of references. ...</td>\n",
       "    </tr>\n",
       "  </tbody>\n",
       "</table>\n",
       "</div>"
      ],
      "text/plain": [
       "        id  sentiment                                             review\n",
       "0   5814_8          1  With all this stuff going down at the moment w...\n",
       "1   2381_9          1  \\The Classic War of the Worlds\\\" by Timothy Hi...\n",
       "2   7759_3          0  The film starts with a manager (Nicholas Bell)...\n",
       "3   3630_4          0  It must be assumed that those who praised this...\n",
       "4   9495_8          1  Superbly trashy and wondrously unpretentious 8...\n",
       "5   8196_8          1  I dont know why people think this is such a ba...\n",
       "6   7166_2          0  This movie could have been very good, but come...\n",
       "7  10633_1          0  I watched this video at a friend's house. I'm ...\n",
       "8    319_1          0  A friend of mine bought this film for £1, and ...\n",
       "9  8713_10          1  <br /><br />This movie is full of references. ..."
      ]
     },
     "execution_count": 1,
     "metadata": {},
     "output_type": "execute_result"
    }
   ],
   "source": [
    "# Import libraries necessary for this project\n",
    "import numpy as np\n",
    "import pandas as pd\n",
    "from sklearn.utils import shuffle\n",
    "\n",
    "\n",
    "# Load the IMDB movie reviews dataset\n",
    "data = pd.read_csv('DataSet\\labeledTrainData.tsv', sep='\\t')\n",
    "\n",
    "precleaned_review_features = data['review'].values\n",
    "\n",
    "sentiment_labels = data['sentiment'].values\n",
    "\n",
    "# Success\n",
    "print(\"IMDB dataset has {} data points with {} variables each.\".format(*data.shape))\n",
    "data.head(10)"
   ]
  },
  {
   "cell_type": "markdown",
   "metadata": {},
   "source": [
    "-----\n",
    "## Data Preprocessing and Cleaning\n",
    "In this section of this project, my goal is to clean the reviews text and remove useless words from the text.\n",
    "I will clean the reviews data by removing HTML tags from the texts (reviews). Also, we will remove punctuation, numbers, stop words and small words. These steps are done using NLTK and regular expressions."
   ]
  },
  {
   "cell_type": "markdown",
   "metadata": {},
   "source": [
    "Firstly, import the required libraries and define the special characters which i don't care with them."
   ]
  },
  {
   "cell_type": "code",
   "execution_count": 2,
   "metadata": {},
   "outputs": [],
   "source": [
    "import re\n",
    "from nltk.corpus import stopwords\n",
    "from collections import Counter\n",
    "from nltk.stem.snowball import SnowballStemmer\n",
    "\n",
    "special_characters = re.compile(\"[^A-Za-z]+\")"
   ]
  },
  {
   "cell_type": "markdown",
   "metadata": {},
   "source": [
    "Here, I convert all the reviews characters into lowercase characters. Then, remove all non alphabetic characters with space using the special character array."
   ]
  },
  {
   "cell_type": "code",
   "execution_count": 3,
   "metadata": {},
   "outputs": [],
   "source": [
    "def clean_text_reviews(review):\n",
    "    review = review.lower()\n",
    "    clean_text = re.sub(special_characters, \" \", review)\n",
    "    return clean_text"
   ]
  },
  {
   "cell_type": "markdown",
   "metadata": {},
   "source": [
    "I used NLTK to get the set of English stop words. It searched for every word in the review. if not exist, i will push it to the review again."
   ]
  },
  {
   "cell_type": "code",
   "execution_count": 4,
   "metadata": {},
   "outputs": [],
   "source": [
    "def remove_stop_words(review):\n",
    "    stop_words = set(stopwords.words(\"english\"))\n",
    "    review = review.split()\n",
    "    words = [word for word in review if not word in stop_words]\n",
    "    #append the word at the end of the text\n",
    "    review = \" \".join(words)\n",
    "    return review"
   ]
  },
  {
   "cell_type": "markdown",
   "metadata": {},
   "source": [
    "Stemming is the basic text processing method for English text. The goal of stemming is to reduce inflectional forms and sometimes derivationally related forms of a word to a common base form.\n",
    "So, stemming  is the process of reducing inflected (or sometimes derived) words to their word stem, base or root form - generally- a written word form. We here dealing only with English reviews, so i used the stemmer of English word"
   ]
  },
  {
   "cell_type": "code",
   "execution_count": 5,
   "metadata": {},
   "outputs": [],
   "source": [
    "def stemmig(review):\n",
    "    stemmer_Words = SnowballStemmer(\"english\")\n",
    "    review = review.split()\n",
    "    words = [stemmer_Words.stem(word) for word in review]\n",
    "    review = \" \".join(words)\n",
    "    return review"
   ]
  },
  {
   "cell_type": "markdown",
   "metadata": {},
   "source": [
    "Here, I remove small words which size is less than 2 characters. They will be useless in the reviews."
   ]
  },
  {
   "cell_type": "code",
   "execution_count": 6,
   "metadata": {},
   "outputs": [],
   "source": [
    "def remove_small_words(review):\n",
    "    review = review.split()\n",
    "    words = [word for word in review if len(word) > 2]\n",
    "    review = \" \".join(words)\n",
    "    return review"
   ]
  },
  {
   "cell_type": "markdown",
   "metadata": {},
   "source": [
    "Call the previous function in order for every review feature in the pecleaned review features. It will produce cleaned review text and will append all these text in cleaned review features. Cleaned_review_features will have all the reviews text [25000 reviews] after cleaning."
   ]
  },
  {
   "cell_type": "code",
   "execution_count": 7,
   "metadata": {},
   "outputs": [],
   "source": [
    "cleaned_review_features = []\n",
    "for review in precleaned_review_features:\n",
    "    cleaned_review = clean_text_reviews(review)\n",
    "    cleaned_review = remove_stop_words(cleaned_review)\n",
    "    cleaned_review = stemmig(cleaned_review)\n",
    "    cleaned_review = remove_small_words(cleaned_review)\n",
    "    cleaned_review_features.append(cleaned_review)"
   ]
  },
  {
   "cell_type": "code",
   "execution_count": 8,
   "metadata": {},
   "outputs": [
    {
     "name": "stdout",
     "output_type": "stream",
     "text": [
      "Length of cleaned reviews 25000\n"
     ]
    }
   ],
   "source": [
    "print \"Length of cleaned reviews\" ,len(cleaned_review_features)"
   ]
  },
  {
   "cell_type": "markdown",
   "metadata": {},
   "source": [
    "----\n",
    "\n",
    "## Developing the Model\n",
    "In this section of the project, I will develop the tools and techniques necessary for a model to make a prediction and Testing. Also, Build different models and calculate the accuracy for all of them."
   ]
  },
  {
   "cell_type": "markdown",
   "metadata": {},
   "source": [
    "### Shuffle and Split Data\n",
    "This is the first step. I will Shuffle and split all data into Training and Testing Data with ration 80:20 respectively. Also, import the needed libraries to complete the modeling and predicting"
   ]
  },
  {
   "cell_type": "code",
   "execution_count": 9,
   "metadata": {
    "scrolled": true
   },
   "outputs": [
    {
     "name": "stderr",
     "output_type": "stream",
     "text": [
      "C:\\Users\\Kaboud\\Anaconda2\\lib\\site-packages\\sklearn\\cross_validation.py:41: DeprecationWarning: This module was deprecated in version 0.18 in favor of the model_selection module into which all the refactored classes and functions are moved. Also note that the interface of the new CV iterators are different from that of this module. This module will be removed in 0.20.\n",
      "  \"This module will be removed in 0.20.\", DeprecationWarning)\n"
     ]
    }
   ],
   "source": [
    "#importing required libraries to develop and test the models\n",
    "from sklearn.cross_validation import train_test_split\n",
    "from sklearn.feature_extraction.text import CountVectorizer\n",
    "\n",
    "from sklearn.naive_bayes import MultinomialNB\n",
    "from sklearn.svm import SVC\n",
    "from sklearn.linear_model import LogisticRegression\n",
    "from sklearn.tree import DecisionTreeClassifier\n",
    "\n",
    "from sklearn.metrics import roc_auc_score\n",
    "from sklearn.metrics import auc\n",
    "\n",
    "import matplotlib.pyplot as plt\n",
    "\n",
    "# shuffle and split the cleaned data into training and testing subsets\n",
    "X_train, X_test, y_train, y_test = train_test_split(cleaned_review_features, sentiment_labels,\n",
    "                                                    test_size=0.20, train_size=0.80, random_state =1)"
   ]
  },
  {
   "cell_type": "markdown",
   "metadata": {},
   "source": [
    "### Creating Features from a Bag of Words\n",
    "I will convert the reviews text to some kind of numeric representation for machine learning by Bag of Words. It models each document by counting the number of times each word appears."
   ]
  },
  {
   "cell_type": "code",
   "execution_count": 10,
   "metadata": {},
   "outputs": [],
   "source": [
    "vectorizer = CountVectorizer()\n",
    "train_features = vectorizer.fit_transform(X_train)\n",
    "test_features = vectorizer.transform(X_test)"
   ]
  },
  {
   "cell_type": "markdown",
   "metadata": {},
   "source": [
    "### Building and Testing Different Models\n",
    "I will try to build different models like Naive Bayes, SVM, Logistic Regression and Dicision Tree. After Building, i will calculate the accuracy of prediction of each one by Computing Area Under the Receiver Operating Characteristic Curve (ROC AUC)."
   ]
  },
  {
   "cell_type": "markdown",
   "metadata": {},
   "source": [
    "Build **Multinomial Naive Bayes** Classifier and compute its accuracy with ROC"
   ]
  },
  {
   "cell_type": "code",
   "execution_count": 11,
   "metadata": {},
   "outputs": [
    {
     "name": "stdout",
     "output_type": "stream",
     "text": [
      "Multinomial Naive Bayes : 86.13851603946311\n"
     ]
    }
   ],
   "source": [
    "nb = MultinomialNB(alpha = 1.6)\n",
    "nb.fit(train_features, y_train)\n",
    "predictions = nb.predict(test_features)\n",
    "acc = roc_auc_score(y_test, predictions)\n",
    "print \"Multinomial Naive Bayes :\", acc*100"
   ]
  },
  {
   "cell_type": "markdown",
   "metadata": {},
   "source": [
    "Build **Support Vector Machine** Classifier and compute its accuracy with ROC"
   ]
  },
  {
   "cell_type": "code",
   "execution_count": 13,
   "metadata": {},
   "outputs": [
    {
     "name": "stdout",
     "output_type": "stream",
     "text": [
      "Support Vector Machine : 74.57714739109224\n"
     ]
    }
   ],
   "source": [
    "SVM = SVC()\n",
    "SVM.fit(train_features, y_train)\n",
    "predictions = SVM.predict(test_features)\n",
    "acc = roc_auc_score(y_test, predictions)\n",
    "print \"Support Vector Machine :\", acc*100"
   ]
  },
  {
   "cell_type": "markdown",
   "metadata": {},
   "source": [
    "Build **Logistic Regression** Classifier and compute its accuracy with ROC"
   ]
  },
  {
   "cell_type": "code",
   "execution_count": 14,
   "metadata": {},
   "outputs": [
    {
     "name": "stdout",
     "output_type": "stream",
     "text": [
      "Logistic Regression : 88.00041472059722\n"
     ]
    }
   ],
   "source": [
    "clr = LogisticRegression(C=0.031)\n",
    "clr.fit(train_features, y_train)\n",
    "predictions = clr.predict(test_features)\n",
    "acc = roc_auc_score(y_test, predictions)\n",
    "print \"Logistic Regression :\", acc*100"
   ]
  },
  {
   "cell_type": "markdown",
   "metadata": {},
   "source": [
    "Build **Desision Tree** Classifier and compute its accuracy with ROC"
   ]
  },
  {
   "cell_type": "code",
   "execution_count": 15,
   "metadata": {},
   "outputs": [
    {
     "name": "stdout",
     "output_type": "stream",
     "text": [
      "Decision Tree Classifier : 71.0183982664935\n"
     ]
    }
   ],
   "source": [
    "dtc = DecisionTreeClassifier()\n",
    "dtc.fit(train_features, y_train)\n",
    "predictions = dtc.predict(test_features)\n",
    "acc = roc_auc_score(y_test, predictions)\n",
    "print \"Decision Tree Classifier :\", acc*100"
   ]
  },
  {
   "cell_type": "markdown",
   "metadata": {},
   "source": [
    "----\n",
    "## Conclusion\n",
    "From the previous accuracy, we found that Logistic Regression is the best accuracy and build its model in a little time. So, I tried to draw the learning curve for it. This learning curve is the result of building Logistic Regression Model with AUC-ROC metric and number of Folds in cross validation = 10."
   ]
  },
  {
   "cell_type": "code",
   "execution_count": 17,
   "metadata": {},
   "outputs": [
    {
     "data": {
      "image/png": "[encoded data removed]",
      "text/plain": [
       "<Figure size 432x288 with 1 Axes>"
      ]
     },
     "metadata": {},
     "output_type": "display_data"
    }
   ],
   "source": [
    "from sklearn.model_selection import learning_curve\n",
    "\n",
    "train_sizes, train_scores, test_scores = learning_curve(LogisticRegression(C=0.031), \n",
    "                                                        train_features,\n",
    "                                                        y_train,\n",
    "                                                        # Number of folds in cross-validation\n",
    "                                                        cv=10,\n",
    "                                                        # Evaluation metric\n",
    "                                                        scoring='roc_auc',\n",
    "                                                        # Use all computer cores\n",
    "                                                        n_jobs=-1, \n",
    "                                                        # 50 different sizes of the training set\n",
    "                                                        train_sizes=np.linspace(0.01, 1.0, 50))\n",
    "\n",
    "# Create means and standard deviations of training set scores\n",
    "train_mean = np.mean(train_scores, axis=1)\n",
    "train_std = np.std(train_scores, axis=1)\n",
    "\n",
    "# Create means and standard deviations of test set scores\n",
    "test_mean = np.mean(test_scores, axis=1)\n",
    "test_std = np.std(test_scores, axis=1)\n",
    "\n",
    "# Draw lines\n",
    "plt.plot(train_sizes, train_mean, '-', color=\"r\",  label=\"Training score\")\n",
    "plt.plot(train_sizes, test_mean,'--', color=\"g\", label=\"Cross-validation score\")\n",
    "\n",
    "# Draw bands\n",
    "plt.fill_between(train_sizes, train_mean - train_std, train_mean + train_std, alpha=0.1, color=\"r\")\n",
    "plt.fill_between(train_sizes, test_mean - test_std, test_mean + test_std, alpha=0.1, color=\"g\")\n",
    "\n",
    "# Create plot\n",
    "plt.title(\"Learning Curve\")\n",
    "plt.xlabel(\"Training Set Size\"), plt.ylabel(\"Accuracy Score\"), plt.legend(loc=\"best\")\n",
    "plt.tight_layout()\n",
    "plt.show()"
   ]
  },
  {
   "cell_type": "markdown",
   "metadata": {},
   "source": [
    "The Best classifiers in prediction accuracy are Logistic Regression and Naive Bayes. They gave an accuracy more than 85% after computing Area Under the Receiver Operating Characteristic Curve (ROC AUC). SVM and DT consume alot of time to build its model."
   ]
  }
 ],
 "metadata": {
  "anaconda-cloud": {},
  "kernelspec": {
   "display_name": "Python 2",
   "language": "python",
   "name": "python2"
  },
  "language_info": {
   "codemirror_mode": {
    "name": "ipython",
    "version": 2
   },
   "file_extension": ".py",
   "mimetype": "text/x-python",
   "name": "python",
   "nbconvert_exporter": "python",
   "pygments_lexer": "ipython2",
   "version": "2.7.15"
  }
 },
 "nbformat": 4,
 "nbformat_minor": 1
}
